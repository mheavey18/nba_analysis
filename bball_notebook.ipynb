{
 "cells": [
  {
   "cell_type": "code",
   "execution_count": null,
   "metadata": {},
   "outputs": [],
   "source": [
    "import pandas as pd\n",
    "\n",
    "odds = pd.read_csv(\"nba_odds.csv\", usecols=[0,1,2,3,8,9,10,11])\n",
    "odds"
   ]
  },
  {
   "cell_type": "code",
   "execution_count": null,
   "metadata": {},
   "outputs": [],
   "source": [
    "names_dict = {\n",
    "    \"Atlanta\": \"ATL\",\n",
    "    \"Boston\": \"BOS\",\n",
    "    \"Brooklyn\": \"BKN\",\n",
    "    \"Charlotte\": \"CHA\",\n",
    "    \"Chicago\": \"CHI\",\n",
    "    \"Cleveland\": \"CLE\",\n",
    "    \"Dallas\": \"DAL\",\n",
    "    \"Denver\": \"DEN\",\n",
    "    \"Detroit\": \"DET\",\n",
    "    \"GoldenState\": \"GS\",\n",
    "    \"Houston\": \"HOU\",\n",
    "    \"Indiana\": \"IND\",\n",
    "    \"LALakers\": \"LAL\",\n",
    "    \"LAClippers\": \"LAC\",\n",
    "    \"Memphis\": \"MEM\",\n",
    "    \"Miami\": \"MIA\",\n",
    "    \"Milwuakee\": \"MIL\",\n",
    "    \"Minnesota\": \"MIN\",\n",
    "    \"NewOrleans\": \"NO\",\n",
    "    \"NewYork\": \"NY\",\n",
    "    \"OklahomaCity\": \"OKC\",\n",
    "    \"Orlando\": \"ORL\",\n",
    "    \"Philidelphia\": \"PHI\",\n",
    "    \"Phoenix\": \"PHX\",\n",
    "    \"Portland\": \"POR\",\n",
    "    \"Sacramento\": \"SAC\",\n",
    "    \"SanAntonio\": \"SA\",\n",
    "    \"Toronto\": \"TOR\",\n",
    "    \"Utah\": \"UTA\",\n",
    "    \"Washington\": \"WAS\"\n",
    "}"
   ]
  },
  {
   "cell_type": "code",
   "execution_count": null,
   "metadata": {},
   "outputs": [],
   "source": [
    "# if string is of length 3, append '2020-0'+str[0]'-'\n",
    "def parse_date(date_string):\n",
    "    date = ''\n",
    "    if len(date_string) < 4:\n",
    "        date += '2020-0'\n",
    "        date += date_string[0]\n",
    "        date += '-'\n",
    "        date += date_string[1:]\n",
    "    else:\n",
    "        date += '2019-'\n",
    "        date += date_string[0:2]\n",
    "        date += '-'\n",
    "        date += date_string[2:]\n",
    "    return date\n",
    "\n",
    "counter = 0\n",
    "df = pd.DataFrame(columns=('id', 'date', 'team1', 'team2', 'score1', 'score2', 'vegas_spread', 'money_line1', 'money_line2', 'over_under', 'elo_prob1', 'raptor_prob1', 'elo_spread', 'raptor_spread'))\n",
    "new_row = {}\n",
    "for index, row in odds.iterrows():\n",
    "    print(row['Date'])\n",
    "    # visiting team (team2)\n",
    "    if counter == 0:\n",
    "        new_row['date'] = parse_date(row['Date'])\n",
    "        new_row['team2'] = names_dict[row['Team']]\n",
    "        new_row['score2'] = row['Final']\n",
    "        new_row['money_line2'] = row['ML']\n",
    "        if float(row['Close']) > 190:\n",
    "            new_row['over_under'] = row['Close']\n",
    "        else:\n",
    "            new_row['vegas_spread'] = float(row['Close'])\n",
    "        counter += 1\n",
    "    # home team in game\n",
    "    else:\n",
    "        # add row to df\n",
    "        df.append()\n",
    "        counter -= 1\n",
    "   "
   ]
  },
  {
   "cell_type": "code",
   "execution_count": null,
   "metadata": {},
   "outputs": [],
   "source": []
  },
  {
   "cell_type": "code",
   "execution_count": null,
   "metadata": {},
   "outputs": [],
   "source": []
  }
 ],
 "metadata": {
  "kernelspec": {
   "display_name": "Python 3",
   "language": "python",
   "name": "python3"
  },
  "language_info": {
   "codemirror_mode": {
    "name": "ipython",
    "version": 3
   },
   "file_extension": ".py",
   "mimetype": "text/x-python",
   "name": "python",
   "nbconvert_exporter": "python",
   "pygments_lexer": "ipython3",
   "version": "3.6.10"
  }
 },
 "nbformat": 4,
 "nbformat_minor": 2
}
